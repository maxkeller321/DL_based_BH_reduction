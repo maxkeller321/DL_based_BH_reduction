{
 "cells": [
  {
   "cell_type": "code",
   "execution_count": null,
   "metadata": {},
   "outputs": [],
   "source": [
    "import numpy as np\n",
    "import h5py\n",
    "import matplotlib.pyplot as plt\n",
    "import sys\n",
    "import os"
   ]
  },
  {
   "cell_type": "code",
   "execution_count": null,
   "metadata": {},
   "outputs": [],
   "source": [
    "DATATYPE_USED = \"float32\"\n",
    "def cut_test_volume_data(path_in: str):\n",
    "    with h5py.File(path_in, \"r\") as f_in:\n",
    "        name_old = path_in.split(\".hdf5\")[0]\n",
    "        name_new = name_old+\"_test_5cut.hdf5\"\n",
    "        with h5py.File(name_new, \"w\") as f_out:\n",
    "            new_volume_dataset = None\n",
    "\n",
    "            # takeover all other existing groups beside \"Volume\"\n",
    "            for key in f_in.keys():\n",
    "                if key != \"Volume\":\n",
    "                    # Get parent group name for copy\n",
    "                    group_path = f_in[key].parent.name\n",
    "                    # Check existence of group, else create group+parent\n",
    "                    group_id = f_out.require_group(group_path)\n",
    "                    f_in.copy(key, group_id, group_path+key)\n",
    "            \n",
    "            vol_hdf5 = f_in[\"Volume\"]\n",
    "            # Volume iteration loop\n",
    "            grey_value_sum = 0\n",
    "            y_slice_idx = np.linspace(0, vol_hdf5.shape[1]-1, 5, dtype=int)\n",
    "            print(\"Take y slices:\", y_slice_idx)\n",
    "            for y_idx, y_slice in enumerate(y_slice_idx):\n",
    "                vol_data = vol_hdf5[:, y_slice, :]\n",
    "                grey_value_sum += vol_data.flatten().sum()\n",
    "\n",
    "                vol_data_3d = np.expand_dims(vol_data, axis=0)\n",
    "                if new_volume_dataset is None:\n",
    "                    new_volume_dataset = f_out.create_dataset(\"Volume\",\n",
    "                        data=vol_data_3d, dtype=DATATYPE_USED, chunks=True,\n",
    "                        maxshape=(None, None, None))\n",
    "                else:\n",
    "                    new_volume_dataset.resize(new_volume_dataset.shape[0] +\n",
    "                        vol_data_3d.shape[0], axis=0)\n",
    "                    new_volume_dataset[y_idx, :, :] = vol_data_3d\n",
    "            \n",
    "            new_volume_dataset.attrs['MATLAB_class'] = 'double'\n",
    "            new_volume_dataset.attrs['Mean_grey_value'] = grey_value_sum/vol_hdf5.size"
   ]
  },
  {
   "cell_type": "code",
   "execution_count": null,
   "metadata": {},
   "outputs": [],
   "source": [
    "path_in = \"/net/pasnas01/pool1/enpro-2021-voxie/reconstructed_volumes/cable_holder_chain/poly/volume_transposed_and_cutted.hdf5\"\n",
    "cut_test_volume_data(path_in)"
   ]
  },
  {
   "cell_type": "code",
   "execution_count": null,
   "metadata": {},
   "outputs": [],
   "source": [
    "def plot_slices_from_hdf5(path_in: str, clim):\n",
    "    with h5py.File(path_in, \"r\") as f_in:\n",
    "        # Volume iteration loop\n",
    "        vol_hdf5 = f_in[\"Volume\"]\n",
    "        img_idx = np.linspace(0, vol_hdf5.shape[0]-1, 10, dtype=int)\n",
    "        print(\"Take images:\", img_idx)\n",
    "        for y_idx, y_slice in enumerate(img_idx):\n",
    "            vol_data = vol_hdf5[y_slice, :, :]\n",
    "            img = np.array(vol_data, dtype=np.float32)\n",
    "            print(\"Max:\\t{} | Min:\\t{}\".format(np.amax(img), np.amin(img)))\n",
    "            plt.figure()\n",
    "            plt.imshow(img, cmap=\"gray\")\n",
    "            plt.clim(clim[0], clim[1])\n",
    "            plt.colorbar()\n",
    "            plt.title(\"Slice {}\".format(y_slice))\n",
    "            plt.savefig(str(path_in.split(\"/\")[-1])+\"img_\"+str(y_slice)+\".png\")\n",
    "        plt.show()\n",
    "            "
   ]
  },
  {
   "cell_type": "code",
   "execution_count": null,
   "metadata": {},
   "outputs": [],
   "source": [
    "#path_in = \"/net/pasnas01/pool1/enpro-2021-voxie/reconstructed_volumes/cable_holder_chain/poly/volume.hdf5\"\n",
    "path_in = \"/net/pasnas01/pool1/enpro-2021-voxie/reconstructed_volumes/cable_holder_chain/poly/volume_transposed_and_cutted.hdf5\"\n",
    "plot_slices_from_hdf5(path_in, [-500, 500])"
   ]
  },
  {
   "cell_type": "code",
   "execution_count": null,
   "metadata": {},
   "outputs": [],
   "source": [
    "from dataloader import get_dataloader\n",
    "from visualization import make_grid\n",
    "import torch\n",
    "\n",
    "def plot_256slices_from_hdf5(path_in: str, clim, loader, indices, rows):\n",
    "    with h5py.File(path_in, \"r\") as f_in:\n",
    "        # Volume iteration loop\n",
    "        data = []\n",
    "        cnt = 0\n",
    "        for img, gt in iter(loader):\n",
    "            if cnt % 5 == 0:\n",
    "                print(\"Counter:\", cnt)\n",
    "            #data.append(img[:, 2, :, :])\n",
    "\n",
    "            data.append(np.squeeze(np.array(img[:, 2, :, :])))\n",
    "            plt.imshow(np.squeeze(np.array(img[:, 2, :, :])), cmap=\"gray\")\n",
    "            plt.clim(clim[0], clim[1])\n",
    "            plt.colorbar()\n",
    "            plt.show()\n",
    "            cnt += 1\n",
    "        data_stack = np.stack(data)\n",
    "        print(\"Data stacked:\", data_stack.shape)\n",
    "        #print(\"Max:\\t{} | Min:\\t{}\".format(np.amax(img), np.amin(img)))\n",
    "        plt.figure(figsize=(12,8), dpi= 100)\n",
    "        grid_array = make_grid(data_stack,rows)\n",
    "        plt.imshow(grid_array, cmap=\"gray\")\n",
    "        plt.clim(clim[0], clim[1])\n",
    "        plt.colorbar()\n",
    "\n",
    "        #plt.savefig(str(path_in.split(\"/\")[-1])+\"img_\"+str(y_slice)+\".png\")\n",
    "            \n",
    "        plt.show()\n",
    "            "
   ]
  },
  {
   "cell_type": "code",
   "execution_count": null,
   "metadata": {},
   "outputs": [],
   "source": [
    "from torch.utils.data.sampler import SequentialSampler\n",
    "#path_in = \"/net/pasnas01/pool1/enpro-2021-voxie/reconstructed_volumes/cable_holder_chain/poly/volume.hdf5\"\n",
    "path_in = \"/home/so/TIFFs/vol_cut_cableHolder_mono.hdf5\"\n",
    "\n",
    "idx = np.arange(1000, 2000, 200)\n",
    "print(\"Idx:\", idx)\n",
    "sampler = SequentialSampler(idx)\n",
    "loader = get_dataloader(1, 2, 256, 128, [(path_in, path_in)], \n",
    "                                sampler=sampler, shuffle=False)\n",
    "print(\"Loader data length:\", len(loader.dataset))\n",
    "print(\"Loader datasets:\", loader.dataset.len_datasets)\n",
    "print(\"Num datasets:\", loader.dataset.num_datasets)\n",
    "\n",
    "plot_256slices_from_hdf5(path_in, [-2, 100],loader, idx, 2)                    "
   ]
  },
  {
   "cell_type": "code",
   "execution_count": 2,
   "metadata": {},
   "outputs": [
    {
     "name": "stdout",
     "output_type": "stream",
     "text": [
      "[('ct_1', 'gt_1'), ('ct_2', 'gt_2'), ('ct_3', 'gt_3')]\n"
     ]
    }
   ],
   "source": [
    "import json\n",
    "\n",
    "paths = [(\"ct_1\", \"gt_1\"), (\"ct_2\", \"gt_2\"), (\"ct_3\", \"gt_3\")]\n",
    "print(paths)"
   ]
  }
 ],
 "metadata": {
  "kernelspec": {
   "display_name": "Python 3.8.5 64-bit",
   "name": "python385jvsc74a57bd031f2aee4e71d21fbe5cf8b01ff0e069b9275f58929596ceb00d14d90e3e16cd6"
  },
  "language_info": {
   "codemirror_mode": {
    "name": "ipython",
    "version": 3
   },
   "file_extension": ".py",
   "mimetype": "text/x-python",
   "name": "python",
   "nbconvert_exporter": "python",
   "pygments_lexer": "ipython3",
   "version": "3.8.5"
  },
  "metadata": {
   "interpreter": {
    "hash": "31f2aee4e71d21fbe5cf8b01ff0e069b9275f58929596ceb00d14d90e3e16cd6"
   }
  },
  "orig_nbformat": 3
 },
 "nbformat": 4,
 "nbformat_minor": 2
}